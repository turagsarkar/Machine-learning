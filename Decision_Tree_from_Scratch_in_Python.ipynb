{
  "nbformat": 4,
  "nbformat_minor": 0,
  "metadata": {
    "colab": {
      "provenance": [],
      "authorship_tag": "ABX9TyPStaBKzpYIbuxhSpoIxGGP"
    },
    "kernelspec": {
      "name": "python3",
      "display_name": "Python 3"
    },
    "language_info": {
      "name": "python"
    }
  },
  "cells": [
    {
      "cell_type": "code",
      "execution_count": 2,
      "metadata": {
        "id": "WLKMe-lTRW3B"
      },
      "outputs": [],
      "source": [
        "#import libaray\n",
        "import numpy as np\n",
        "import pandas as pd\n",
        "import seaborn as sns\n",
        "\n",
        "import matplotlib.pyplot as plt\n",
        "%matplotlib inline\n",
        "import random\n",
        "from pprint import pprint"
      ]
    },
    {
      "cell_type": "code",
      "source": [
        "#loading dataset\n",
        "data=pd.read_csv(\"play_tennis.csv\")\n",
        "data"
      ],
      "metadata": {
        "id": "_xrt_a7rTK8m"
      },
      "execution_count": null,
      "outputs": []
    },
    {
      "cell_type": "code",
      "source": [
        "#checking dataset info\n",
        "data.info()"
      ],
      "metadata": {
        "colab": {
          "base_uri": "https://localhost:8080/"
        },
        "id": "YORYGwDcUxmK",
        "outputId": "2036512a-cc7f-435d-e5fa-07c78354187a"
      },
      "execution_count": 5,
      "outputs": [
        {
          "output_type": "stream",
          "name": "stdout",
          "text": [
            "<class 'pandas.core.frame.DataFrame'>\n",
            "RangeIndex: 14 entries, 0 to 13\n",
            "Data columns (total 6 columns):\n",
            " #   Column    Non-Null Count  Dtype \n",
            "---  ------    --------------  ----- \n",
            " 0   day       14 non-null     object\n",
            " 1   outlook   14 non-null     object\n",
            " 2   temp      14 non-null     object\n",
            " 3   humidity  14 non-null     object\n",
            " 4   wind      14 non-null     object\n",
            " 5   play      14 non-null     object\n",
            "dtypes: object(6)\n",
            "memory usage: 800.0+ bytes\n"
          ]
        }
      ]
    },
    {
      "cell_type": "code",
      "source": [
        "#train data test data split from dataset\n",
        "\n",
        "def train_test_split (data,test_size):\n",
        "  if isinstance (test_size,float):\n",
        "     test_size=round(test_size*len(data))\n",
        "  index_list=data.index.tolist()\n",
        "  test_index=random.sample(population=index_list,k=test_size)\n",
        "  test_data=data.loc[test_index]\n",
        "  train_data=data.drop(test_index)\n",
        "  return(train_data,test_data)"
      ],
      "metadata": {
        "id": "NilPEt2rU3MB"
      },
      "execution_count": 25,
      "outputs": []
    },
    {
      "cell_type": "code",
      "source": [
        "train_data,test_data=train_test_split(data,test_size=0.3)\n",
        "len(train_data)\n",
        "len(test_data)\n"
      ],
      "metadata": {
        "colab": {
          "base_uri": "https://localhost:8080/"
        },
        "id": "D8XdS9VZWimg",
        "outputId": "5f3d58a2-6dd4-467a-d6ed-26cc9469c1c8"
      },
      "execution_count": 28,
      "outputs": [
        {
          "output_type": "execute_result",
          "data": {
            "text/plain": [
              "4"
            ]
          },
          "metadata": {},
          "execution_count": 28
        }
      ]
    }
  ]
}