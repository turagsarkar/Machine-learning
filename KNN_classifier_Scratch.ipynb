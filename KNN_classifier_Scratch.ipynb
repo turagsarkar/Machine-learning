{
  "nbformat": 4,
  "nbformat_minor": 0,
  "metadata": {
    "colab": {
      "provenance": [],
      "authorship_tag": "ABX9TyPw/3pKcr6+PLAdfyQkCACi",
      "include_colab_link": true
    },
    "kernelspec": {
      "name": "python3",
      "display_name": "Python 3"
    },
    "language_info": {
      "name": "python"
    }
  },
  "cells": [
    {
      "cell_type": "markdown",
      "metadata": {
        "id": "view-in-github",
        "colab_type": "text"
      },
      "source": [
        "<a href=\"https://colab.research.google.com/github/turagsarkar/Machine-learning-algorithms/blob/main/KNN_classifier_Scratch.ipynb\" target=\"_parent\"><img src=\"https://colab.research.google.com/assets/colab-badge.svg\" alt=\"Open In Colab\"/></a>"
      ]
    },
    {
      "cell_type": "code",
      "source": [
        "import pandas as pd\n",
        "import math\n",
        "import numpy as np\n"
      ],
      "metadata": {
        "id": "ptDbvoY8L3Fo"
      },
      "execution_count": 3,
      "outputs": []
    },
    {
      "cell_type": "code",
      "execution_count": 14,
      "metadata": {
        "id": "pUtvfrebAaTi"
      },
      "outputs": [],
      "source": [
        "def distance(X_train , X_test):\n",
        "  distances=[]\n",
        "  for row in range(len(X_train)):\n",
        "    current_train_point= X_train[row]\n",
        "    current_distance=0\n",
        "    for col in range(len(current_train_point)):\n",
        "      current_distance += (current_train_point[col] - X_test[col])**2\n",
        "    current_distance = np.sqrt(current_distance)\n",
        "    distances.append(current_distance)\n",
        "  distances = pd.DataFrame(data = distances , columns=['dis'])\n",
        "  return distances"
      ]
    },
    {
      "cell_type": "code",
      "source": [
        "#Finding Nearest\n",
        "def nearest_neighbours(distance_point ,k):\n",
        "  data_near = distance_point.sort_values(by=[\"dist\"],axis=0)\n",
        "  data_near = data_near[:K]\n",
        "  return data_near"
      ],
      "metadata": {
        "id": "e4rFOVavKX_V"
      },
      "execution_count": 6,
      "outputs": []
    },
    {
      "cell_type": "code",
      "source": [
        "from typing_extensions import Counter\n",
        "def voting(data_near , y_train):\n",
        "  counter_vote = Counter(y_train[data_near.index])\n",
        "  y_pred = counter_vote.most_common()[0][0]\n",
        "  return y_pred"
      ],
      "metadata": {
        "id": "xYlHe73vLdcE"
      },
      "execution_count": 8,
      "outputs": []
    },
    {
      "cell_type": "code",
      "source": [
        "#KNN-Algo\n",
        "\n",
        "def KNN(X_train , y_train , y_test , k ):\n",
        "  y_pred = []\n",
        "  for X_test in y_test:\n",
        "    distance_point= distance(X_train , X_test)\n",
        "    data_near = nearest_neighbours(distance_point , k )\n",
        "    y_pred_point = voting(data_near,y_train)\n",
        "    y_pred.append(y_pred_point)\n",
        "  return y_pred"
      ],
      "metadata": {
        "id": "M4vwX21JMQsj"
      },
      "execution_count": 5,
      "outputs": []
    }
  ]
}